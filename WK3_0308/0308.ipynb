{
 "cells": [
  {
   "cell_type": "code",
   "execution_count": 6,
   "id": "severe-forest",
   "metadata": {},
   "outputs": [
    {
     "data": {
      "text/plain": [
       "'\\n問10個問題\\n\\n'"
      ]
     },
     "execution_count": 6,
     "metadata": {},
     "output_type": "execute_result"
    }
   ],
   "source": [
    "'''\n",
    "\n",
    "【問10個問題】\n",
    "1. 2022年半屏山電信局的TSP的平均\n",
    "2. 2022年高雄市落塵累積量最高的站點\n",
    "3. 2022年勞工博物館有哪幾個月硫酸鹽的值超過該點平均值一個標準差\n",
    "4. 2022年高雄市硝酸鹽累積量最低的站點\n",
    "5. 2022年高雄空氣總懸浮微粒(TSP)年平均之南北差異(以「環保局環境檢驗科」和「岡山地政事務所」為例)\n",
    "6. 2022年高雄空氣總懸浮微粒(TSP)年平均之東西差異(以「環保局環境檢驗科」和「西子灣中山大學」為例)\n",
    "7. 2022年高雄空氣總懸浮微粒(TSP)年平均和各站點平均之差異\n",
    "8. 2022年一到九月高雄空氣各項指標之標準差\n",
    "9. 2022年西子灣中山大學Nitrate季平均和總平均之差異\n",
    "10.此份資料有哪些站點\n",
    "\n",
    "'''"
   ]
  },
  {
   "cell_type": "code",
   "execution_count": 121,
   "id": "different-lounge",
   "metadata": {},
   "outputs": [],
   "source": [
    "import pandas as pd"
   ]
  },
  {
   "cell_type": "code",
   "execution_count": 233,
   "id": "imperial-photography",
   "metadata": {},
   "outputs": [
    {
     "name": "stdout",
     "output_type": "stream",
     "text": [
      "       Name      Date  TSP  Chloride  Nitrate  Sulfate         Lead  Dust\n",
      "0   西子灣中山大學  2022年01月   75      9.25    14.90    6.940        0.042  2.13\n",
      "1    半屏山電信局  2022年01月  140      4.54    14.40    8.389        0.092  5.17\n",
      "2     勞工博物館  2022年01月   86      6.17    14.50    9.147        0.073  2.64\n",
      "3  環保局環境檢驗科  2022年01月   90      4.50    13.20    8.498        0.062  2.86\n",
      "0   西子灣中山大學  2022年02月   71      6.16    13.20    8.290        0.024  2.48\n",
      "1    半屏山電信局  2022年02月  101      3.97    16.00    9.800        0.039  4.30\n",
      "2     勞工博物館  2022年02月   83      3.55    11.40    7.150        0.025  2.51\n",
      "3  環保局環境檢驗科  2022年02月   86      4.14    16.90    9.350        0.034  2.53\n",
      "0   西子灣中山大學  2022年03月   46      5.04     9.90    8.750        0.017  2.57\n",
      "1    半屏山電信局  2022年03月   81      4.01     9.80    9.950        0.022  4.13\n",
      "2     勞工博物館  2022年03月   57      4.10    11.00    7.200        0.114  2.29\n",
      "3  環保局環境檢驗科  2022年03月   62      3.72    10.60    9.820        0.023  3.35\n",
      "4   岡山地政事務所  2022年03月   64      3.12     8.60    5.120         0.03  3.83\n",
      "0   西子灣中山大學  2022年04月   23      5.14     4.56    3.040        0.024  1.72\n",
      "1    半屏山電信局  2022年04月   35      3.02     5.99    3.580        0.013  2.33\n",
      "2     勞工博物館  2022年04月   23      3.31     5.74    3.660        0.013  1.96\n",
      "3  環保局環境檢驗科  2022年04月   33      3.47     5.94    3.920        0.014  3.00\n",
      "4   岡山地政事務所  2022年04月   40      3.80     6.54    5.030        0.019  4.10\n",
      "0   西子灣中山大學  2022年05月   20      2.36     4.96    5.270        0.016  1.25\n",
      "1    半屏山電信局  2022年05月   33      1.64     6.42    7.350        0.016  2.08\n",
      "2     勞工博物館  2022年05月   26      2.53     8.11    7.950        0.015  1.21\n",
      "3  環保局環境檢驗科  2022年05月   31      1.55     4.90    5.760        0.017  2.45\n",
      "4   岡山地政事務所  2022年05月   39      2.14     7.71    6.480        0.017  1.85\n",
      "0   西子灣中山大學  2022年06月   13      1.34     1.61    5.270        0.009  2.31\n",
      "1    半屏山電信局  2022年06月   20      0.92     2.01    4.600        0.013  1.53\n",
      "2     勞工博物館  2022年06月   21      1.40     2.12    8.360        0.018  1.94\n",
      "3  環保局環境檢驗科  2022年06月   24      1.45     2.12    6.680         0.02  3.67\n",
      "4   岡山地政事務所  2022年06月   23      1.09     2.39    3.850        0.009  2.91\n",
      "0   西子灣中山大學  2022年07月   21      4.52     3.00    3.580        0.008  3.83\n",
      "1    半屏山電信局  2022年07月   40      1.52     3.30    6.980        0.014  2.25\n",
      "2     勞工博物館  2022年07月   21      2.03     3.46    6.060        0.008  1.94\n",
      "3  環保局環境檢驗科  2022年07月   23      1.71     4.03    6.120        0.025  3.65\n",
      "4   岡山地政事務所  2022年07月   21      1.98     2.52    3.220        0.009  2.37\n",
      "0   西子灣中山大學  2022年08月   20      5.88     2.01    3.190        0.022  2.46\n",
      "1    半屏山電信局  2022年08月   37      1.83     1.85    5.410        0.023  3.67\n",
      "2     勞工博物館  2022年08月   18      2.90     2.70    4.950        0.027  2.63\n",
      "3  環保局環境檢驗科  2022年08月   26      2.10     1.16    7.170        0.021  3.80\n",
      "4   岡山地政事務所  2022年08月   25      2.37     1.53    3.900        0.024  4.07\n",
      "0   西子灣中山大學  2022年09月   69      8.67     4.81    5.600        0.028  2.02\n",
      "1    半屏山電信局  2022年09月  111      4.89     6.35    8.330        0.021  3.31\n",
      "2     勞工博物館  2022年09月   88      6.28     4.61    6.000        0.021  2.09\n",
      "3  環保局環境檢驗科  2022年09月   79      5.68     4.48    4.640         0.02  3.63\n",
      "4   岡山地政事務所  2022年09月   86      6.25     5.09    6.320        0.033  3.02\n",
      "0   西子灣中山大學  2022年10月   27      4.67     9.42    7.670    ND(0.014)  3.93\n",
      "1    半屏山電信局  2022年10月   43      1.40    10.30    8.410    ND(0.014)  2.16\n",
      "2     勞工博物館  2022年10月   27      1.50     8.76    7.680    ND(0.014)  2.39\n",
      "3  環保局環境檢驗科  2022年10月   32      1.58     9.69    8.860    ND(0.014)  3.96\n",
      "4   岡山地政事務所  2022年10月   31      2.45     8.86    8.030    ND(0.014)  2.77\n",
      "0   西子灣中山大學  2022年11月  109     35.40    11.40    8.390  <0.1(0.037)  1.24\n",
      "1    半屏山電信局  2022年11月   83      5.50     8.57    4.870  <0.1(0.040)  2.19\n",
      "2     勞工博物館  2022年11月   54      8.45     9.22    6.110  <0.1(0.042)  1.50\n",
      "3  環保局環境檢驗科  2022年11月   60      5.30     9.23    5.320  <0.1(0.026)  1.65\n",
      "4   岡山地政事務所  2022年11月   63      6.72     7.43    5.100  <0.1(0.057)  2.00\n",
      "0   西子灣中山大學  2022年12月   70     11.80     8.50    4.210  <0.1(0.044)  2.07\n",
      "1    半屏山電信局  2022年12月   97      4.16     8.94    4.740  <0.1(0.036)  3.80\n",
      "2     勞工博物館  2022年12月   63      4.12     8.29    4.150  <0.1(0.036)  2.19\n",
      "3  環保局環境檢驗科  2022年12月   68      3.77    10.30    4.780  <0.1(0.034)  2.79\n",
      "4   岡山地政事務所  2022年12月   59      2.97     6.41    4.230  <0.1(0.047)  3.34\n"
     ]
    }
   ],
   "source": [
    "#讀取資料\n",
    "\n",
    "#Name(測站名稱)\n",
    "#Date(監測日期)\n",
    "#TSP(總懸浮微粒μg/m3)\n",
    "#Chloride(氯鹽μg/m3)\n",
    "#Nitrate(硝酸鹽μg/m3)\n",
    "#Sulfate(硫酸鹽μg/m3)0\n",
    "#Lead(鉛μg/m3)\n",
    "#Dust(落塵量-公噸/平方公里/月)\n",
    "\n",
    "df01 = pd.read_csv(r'myProjectData\\2022-01arti.csv')\n",
    "df02 = pd.read_csv(r'myProjectData\\2022-02arti.csv')\n",
    "df03 = pd.read_csv(r'myProjectData\\2022-03arti.csv')\n",
    "df04 = pd.read_csv(r'myProjectData\\2022-04arti.csv')\n",
    "df05 = pd.read_csv(r'myProjectData\\2022-05arti.csv')\n",
    "df06 = pd.read_csv(r'myProjectData\\2022-06arti.csv')\n",
    "df07 = pd.read_csv(r'myProjectData\\2022-07arti.csv')\n",
    "df08 = pd.read_csv(r'myProjectData\\2022-08arti.csv')\n",
    "df09 = pd.read_csv(r'myProjectData\\2022-09arti.csv')\n",
    "df10 = pd.read_csv(r'myProjectData\\2022-10arti.csv')\n",
    "df11 = pd.read_csv(r'myProjectData\\2022-11arti.csv')\n",
    "df12 = pd.read_csv(r'myProjectData\\2022-12arti.csv')\n",
    "\n",
    "df = pd.concat([df01,df02,df03,df04,df05,df06,df07,df08,df09,df10,df11,df12])\n",
    "\n",
    "nameList = df['Name'].drop_duplicates()\n",
    "#測站 最北:岡山地政事務所  最南:環保局環境檢驗科  最東:環保局環境檢驗科  最西:西子灣中山大學\n",
    "#岡山地政事務所 三月後才有資料\n",
    "\n",
    "print(df)"
   ]
  },
  {
   "cell_type": "code",
   "execution_count": 231,
   "id": "present-waste",
   "metadata": {
    "scrolled": false
   },
   "outputs": [
    {
     "name": "stdout",
     "output_type": "stream",
     "text": [
      "Ans1. 半屏山電信局的TSP在2022年中的平均 = 68.41666666666667\n"
     ]
    }
   ],
   "source": [
    "#Q1. 2022年半屏山電信局的TSP的平均\n",
    "\n",
    "df1=(df[df['Name']=='半屏山電信局']['TSP']).mean()\n",
    "print(\"Ans1. 半屏山電信局的TSP在2022年中的平均 =\",df1)"
   ]
  },
  {
   "cell_type": "code",
   "execution_count": 124,
   "id": "excited-henry",
   "metadata": {},
   "outputs": [
    {
     "name": "stdout",
     "output_type": "stream",
     "text": [
      "Ans2. 高雄市2022年落塵累積量最高的站點 =  環保局環境檢驗科\n"
     ]
    }
   ],
   "source": [
    "#Q2. 2022年高雄市落塵累積量最高的站點\n",
    "df2_1=int((df[df['Name']=='西子灣中山大學']['Dust']).sum())\n",
    "df2_2=int((df[df['Name']=='半屏山電信局']['Dust']).sum())\n",
    "df2_3=int((df[df['Name']=='勞工博物館']['Dust']).sum())\n",
    "df2_4=int((df[df['Name']=='環保局環境檢驗科']['Dust']).sum())\n",
    "df2_5=int((df[df['Name']=='岡山地政事務所']['Dust']).sum())\n",
    "\n",
    "df2=[df2_1,df2_2,df2_3,df2_4,df2_5]\n",
    "for i in range(5):\n",
    "    check=0;\n",
    "    for j in range(5):\n",
    "        if df2[i]<df2[j]:\n",
    "            check=1;\n",
    "            continue\n",
    "    if check==0:\n",
    "        print(\"Ans2. 高雄市2022年落塵累積量最高的站點 = \",nameList[i])\n",
    "        break"
   ]
  },
  {
   "cell_type": "code",
   "execution_count": 125,
   "id": "sorted-japan",
   "metadata": {},
   "outputs": [
    {
     "name": "stdout",
     "output_type": "stream",
     "text": [
      "Ans3. 勞工博物館2022年 1 月硫酸鹽的值超過該點平均值一個標準差\n",
      "Ans3. 勞工博物館2022年 6 月硫酸鹽的值超過該點平均值一個標準差\n"
     ]
    }
   ],
   "source": [
    "#Q3. 2022年勞工博物館有哪幾個月硫酸鹽的值超過該點平均值一個標準差\n",
    "df3=(df[df['Name']=='勞工博物館']['Sulfate'])\n",
    "df3_std = df3.describe(include='all')['std']\n",
    "df3_mean = df3.mean()\n",
    "\n",
    "for i in range(12):\n",
    "    t=float(df3.iloc[i])\n",
    "    if t>df3_mean+df3_std*1:\n",
    "        print(\"Ans3. 勞工博物館2022年\",i+1,\"月硫酸鹽的值超過該點平均值一個標準差\")"
   ]
  },
  {
   "cell_type": "code",
   "execution_count": 128,
   "id": "intermediate-swedish",
   "metadata": {},
   "outputs": [
    {
     "name": "stdout",
     "output_type": "stream",
     "text": [
      "Ans4. 高雄市2022年硝酸鹽累積量最低的站點 =  岡山地政事務所\n"
     ]
    }
   ],
   "source": [
    "#Q4. 2022年高雄市硝酸鹽累積量最低的站點\n",
    "df4_1=int((df[df['Name']=='西子灣中山大學']['Nitrate']).sum())\n",
    "df4_2=int((df[df['Name']=='半屏山電信局']['Nitrate']).sum())\n",
    "df4_3=int((df[df['Name']=='勞工博物館']['Nitrate']).sum())\n",
    "df4_4=int((df[df['Name']=='環保局環境檢驗科']['Nitrate']).sum())\n",
    "df4_5=int((df[df['Name']=='岡山地政事務所']['Nitrate']).sum())\n",
    "\n",
    "df4=[df4_1,df4_2,df4_3,df4_4,df4_5]\n",
    "for i in range(5):\n",
    "    check=0;\n",
    "    for j in range(5):\n",
    "        if df4[i]>df4[j]:\n",
    "            check=1;\n",
    "            continue\n",
    "    if check==0:\n",
    "        print(\"Ans4. 高雄市2022年硝酸鹽累積量最低的站點 = \",nameList[i])\n",
    "        break"
   ]
  },
  {
   "cell_type": "code",
   "execution_count": 152,
   "id": "printable-meter",
   "metadata": {
    "scrolled": false
   },
   "outputs": [
    {
     "name": "stdout",
     "output_type": "stream",
     "text": [
      "-----df5_s 環保局環境檢驗科TSP-----\n",
      "count    12.000000\n",
      "mean     51.166667\n",
      "std      25.661550\n",
      "min      23.000000\n",
      "25%      29.750000\n",
      "50%      46.500000\n",
      "75%      70.750000\n",
      "max      90.000000\n",
      "Name: TSP, dtype: float64\n",
      "\n",
      "-----df5_n 岡山地政事務所TSP-----\n",
      "count    10.000000\n",
      "mean     45.100000\n",
      "std      21.804434\n",
      "min      21.000000\n",
      "25%      26.500000\n",
      "50%      39.500000\n",
      "75%      62.000000\n",
      "max      86.000000\n",
      "Name: TSP, dtype: float64\n"
     ]
    }
   ],
   "source": [
    "#Q5. 2022年高雄空氣總懸浮微粒(TSP)年平均之南北差異(以「環保局環境檢驗科」和「岡山地政事務所」為例)\n",
    "df5_s=df[df['Name']==\"環保局環境檢驗科\"][\"TSP\"].describe()\n",
    "df5_n=df[df['Name']==\"岡山地政事務所\"][\"TSP\"].describe()\n",
    "\n",
    "print(\"-----df5_s 環保局環境檢驗科TSP-----\")\n",
    "print(df5_s)\n",
    "print(\"\")\n",
    "print(\"-----df5_n 岡山地政事務所TSP-----\")\n",
    "print(df5_n)"
   ]
  },
  {
   "cell_type": "code",
   "execution_count": 151,
   "id": "extra-easter",
   "metadata": {},
   "outputs": [
    {
     "name": "stdout",
     "output_type": "stream",
     "text": [
      "-----df6_e 環保局環境檢驗科TSP-----\n",
      "count    12.000000\n",
      "mean     51.166667\n",
      "std      25.661550\n",
      "min      23.000000\n",
      "25%      29.750000\n",
      "50%      46.500000\n",
      "75%      70.750000\n",
      "max      90.000000\n",
      "Name: TSP, dtype: float64\n",
      "\n",
      "-----df6_w 西子灣中山大學TSP-----\n",
      "count     12.00000\n",
      "mean      47.00000\n",
      "std       30.87217\n",
      "min       13.00000\n",
      "25%       20.75000\n",
      "50%       36.50000\n",
      "75%       70.25000\n",
      "max      109.00000\n",
      "Name: TSP, dtype: float64\n"
     ]
    }
   ],
   "source": [
    "#Q6. 2022年高雄空氣總懸浮微粒(TSP)年平均之東西差異(以「環保局環境檢驗科」和「岡山地政事務所」為例)\n",
    "df6_e=df[df['Name']==\"環保局環境檢驗科\"][\"TSP\"].describe()\n",
    "df6_w=df[df['Name']==\"西子灣中山大學\"][\"TSP\"].describe()\n",
    "\n",
    "print(\"-----df6_e 環保局環境檢驗科TSP-----\")\n",
    "print(df6_e)\n",
    "print(\"\")\n",
    "print(\"-----df6_w 西子灣中山大學TSP-----\")\n",
    "print(df6_w)"
   ]
  },
  {
   "cell_type": "code",
   "execution_count": 205,
   "id": "alternate-austin",
   "metadata": {
    "scrolled": true
   },
   "outputs": [
    {
     "name": "stdout",
     "output_type": "stream",
     "text": [
      "總年平均TSP: 52.01724137931034\n",
      "西子灣中山大學TSP: 47.0                   與總年平均之差異為: 5.017241379310342\n",
      "半屏山電信局TSP: 68.41666666666667        與總年平均之差異為: -16.39942528735633\n",
      "勞工博物館TSP: 47.25                      與總年平均之差異為: 4.767241379310342\n",
      "環保局環境檢驗科TSP: 51.166666666666664    與總年平均之差異為: 0.8505747126436773\n",
      "岡山地政事務所TSP: 45.1                    與總年平均之差異為: 6.91724137931034\n"
     ]
    }
   ],
   "source": [
    "#Q7. 2022年高雄空氣總懸浮微粒(TSP)年平均和各站點平均之差異\n",
    "df7_all=df['TSP'].mean()\n",
    "df7_0=df[df['Name']==\"西子灣中山大學\"]['TSP'].mean()\n",
    "df7_1=df[df['Name']==\"半屏山電信局\"]['TSP'].mean()\n",
    "df7_2=df[df['Name']==\"勞工博物館\"]['TSP'].mean()\n",
    "df7_3=df[df['Name']==\"環保局環境檢驗科\"]['TSP'].mean()\n",
    "df7_4=df[df['Name']==\"岡山地政事務所\"]['TSP'].mean()\n",
    "\n",
    "print(\"總年平均TSP:\",df7_all)\n",
    "print(\"西子灣中山大學TSP:\",df7_0,\"                  與總年平均之差異為:\",df7_all-df7_0)\n",
    "print(\"半屏山電信局TSP:\",df7_1,\"       與總年平均之差異為:\",df7_all-df7_1)\n",
    "print(\"勞工博物館TSP:\",df7_2,\"                     與總年平均之差異為:\",df7_all-df7_2)\n",
    "print(\"環保局環境檢驗科TSP:\",df7_3,\"   與總年平均之差異為:\",df7_all-df7_3)\n",
    "print(\"岡山地政事務所TSP:\",df7_4,\"                   與總年平均之差異為:\",df7_all-df7_4)"
   ]
  },
  {
   "cell_type": "code",
   "execution_count": 203,
   "id": "strategic-seventh",
   "metadata": {},
   "outputs": [
    {
     "name": "stdout",
     "output_type": "stream",
     "text": [
      "TSP: 31.452384515237508\n",
      "Chloride: 1.9879688237738509\n",
      "Nitrate: 4.527301737108554\n",
      "Sulfate: 2.0317934031296363\n",
      "Dust: 0.9041637411856669\n"
     ]
    }
   ],
   "source": [
    "#Q8. 2022年一到九月高雄空氣各項指標之標準差\n",
    "df8_TSP=(df['TSP'].iloc[:43]).describe()['std']\n",
    "df8_Chloride=(df['Chloride'].iloc[:43]).describe()['std']\n",
    "df8_Nitrate=(df['Nitrate'].iloc[:43]).describe()['std']\n",
    "df8_Sulfate=(df['Sulfate'].iloc[:43]).describe()['std']\n",
    "df8_Dust=(df['Dust'].iloc[:43]).describe()['std']\n",
    "\n",
    "print(\"TSP:\",df8_TSP)\n",
    "print(\"Chloride:\",df8_Chloride)\n",
    "print(\"Nitrate:\",df8_Nitrate)\n",
    "print(\"Sulfate:\",df8_Sulfate)\n",
    "print(\"Dust:\",df8_Dust)"
   ]
  },
  {
   "cell_type": "code",
   "execution_count": 232,
   "id": "regulation-slovenia",
   "metadata": {},
   "outputs": [
    {
     "name": "stdout",
     "output_type": "stream",
     "text": [
      "2022年總平均: 7.355833333333334\n",
      "一到三月平均: 12.666666666666666\n",
      "四到六月平均: 3.7099999999999995\n",
      "七到九月平均: 3.2733333333333334\n",
      "十到十二月平均: 9.773333333333333\n"
     ]
    }
   ],
   "source": [
    "#Q9. 2022年西子灣中山大學Nitrate季平均和總平均之差異\n",
    "\n",
    "df9=df[df['Name']==\"西子灣中山大學\"]['Nitrate'].mean()\n",
    "df9_13=(df[df['Name']==\"西子灣中山大學\"]['Nitrate'])[0:3].mean()\n",
    "df9_46=(df[df['Name']==\"西子灣中山大學\"]['Nitrate'])[3:6].mean()\n",
    "df9_79=(df[df['Name']==\"西子灣中山大學\"]['Nitrate'])[6:9].mean()\n",
    "df9_1012=(df[df['Name']==\"西子灣中山大學\"]['Nitrate'])[9:12].mean()\n",
    "\n",
    "print(\"2022年總平均:\",df9)\n",
    "print(\"一到三月平均:\",df9_13)\n",
    "print(\"四到六月平均:\",df9_46)\n",
    "print(\"七到九月平均:\",df9_79)\n",
    "print(\"十到十二月平均:\",df9_1012)"
   ]
  },
  {
   "cell_type": "code",
   "execution_count": 236,
   "id": "tutorial-riverside",
   "metadata": {},
   "outputs": [
    {
     "name": "stdout",
     "output_type": "stream",
     "text": [
      "0     西子灣中山大學\n",
      "1      半屏山電信局\n",
      "2       勞工博物館\n",
      "3    環保局環境檢驗科\n",
      "4     岡山地政事務所\n",
      "Name: Name, dtype: object\n"
     ]
    }
   ],
   "source": [
    "#Q10. 此份資料有哪些站點\n",
    "\n",
    "df10 = df['Name'].drop_duplicates()\n",
    "print(df10)"
   ]
  }
 ],
 "metadata": {
  "kernelspec": {
   "display_name": "Python 3",
   "language": "python",
   "name": "python3"
  },
  "language_info": {
   "codemirror_mode": {
    "name": "ipython",
    "version": 3
   },
   "file_extension": ".py",
   "mimetype": "text/x-python",
   "name": "python",
   "nbconvert_exporter": "python",
   "pygments_lexer": "ipython3",
   "version": "3.9.2"
  }
 },
 "nbformat": 4,
 "nbformat_minor": 5
}
