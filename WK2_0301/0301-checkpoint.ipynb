{
 "cells": [
  {
   "cell_type": "code",
   "execution_count": 7,
   "id": "amino-championship",
   "metadata": {},
   "outputs": [],
   "source": [
    "import pandas as pd\n",
    "df18 = pd.read_csv(r'2018.csv')\n",
    "df17 = pd.read_csv(r'2017.csv')\n",
    "df16 = pd.read_csv(r'2016.csv')"
   ]
  },
  {
   "cell_type": "code",
   "execution_count": 8,
   "id": "grave-shape",
   "metadata": {},
   "outputs": [],
   "source": [
    "#經費分布情況 \n",
    "df18 = df18[['Complex2Name','FValue']]\n",
    "df17 = df17[['Complex2Name','FValue']]\n",
    "df16 = df16[['Complex2Name','FValue']]"
   ]
  },
  {
   "cell_type": "code",
   "execution_count": 9,
   "id": "actual-decade",
   "metadata": {},
   "outputs": [],
   "source": [
    "df18 = df18.groupby(['Complex2Name'])['FValue'].sum().reset_index()\n",
    "df17 = df17.groupby(['Complex2Name'])['FValue'].sum().reset_index()\n",
    "df16 = df16.groupby(['Complex2Name'])['FValue'].sum().reset_index()"
   ]
  },
  {
   "cell_type": "code",
   "execution_count": 10,
   "id": "southern-antarctica",
   "metadata": {},
   "outputs": [],
   "source": [
    "df18['year']=2018\n",
    "df17['year']=2017\n",
    "df16['year']=2016"
   ]
  },
  {
   "cell_type": "code",
   "execution_count": 11,
   "id": "athletic-agency",
   "metadata": {},
   "outputs": [],
   "source": [
    "dfAll = pd.concat([df18,df17,df16])"
   ]
  },
  {
   "cell_type": "code",
   "execution_count": 12,
   "id": "liked-bracelet",
   "metadata": {},
   "outputs": [
    {
     "data": {
      "text/html": [
       "<div>\n",
       "<style scoped>\n",
       "    .dataframe tbody tr th:only-of-type {\n",
       "        vertical-align: middle;\n",
       "    }\n",
       "\n",
       "    .dataframe tbody tr th {\n",
       "        vertical-align: top;\n",
       "    }\n",
       "\n",
       "    .dataframe thead th {\n",
       "        text-align: right;\n",
       "    }\n",
       "</style>\n",
       "<table border=\"1\" class=\"dataframe\">\n",
       "  <thead>\n",
       "    <tr style=\"text-align: right;\">\n",
       "      <th></th>\n",
       "      <th>Complex2Name</th>\n",
       "      <th>FValue</th>\n",
       "      <th>year</th>\n",
       "    </tr>\n",
       "  </thead>\n",
       "  <tbody>\n",
       "    <tr>\n",
       "      <th>0</th>\n",
       "      <td>償還借款</td>\n",
       "      <td>2568559</td>\n",
       "      <td>2018</td>\n",
       "    </tr>\n",
       "    <tr>\n",
       "      <th>1</th>\n",
       "      <td>折舊、折耗及攤銷</td>\n",
       "      <td>189090</td>\n",
       "      <td>2018</td>\n",
       "    </tr>\n",
       "    <tr>\n",
       "      <th>2</th>\n",
       "      <td>經常支出</td>\n",
       "      <td>23744400</td>\n",
       "      <td>2018</td>\n",
       "    </tr>\n",
       "    <tr>\n",
       "      <th>3</th>\n",
       "      <td>經常支出報廢金額</td>\n",
       "      <td>5724945</td>\n",
       "      <td>2018</td>\n",
       "    </tr>\n",
       "    <tr>\n",
       "      <th>4</th>\n",
       "      <td>資本支出</td>\n",
       "      <td>5319702</td>\n",
       "      <td>2018</td>\n",
       "    </tr>\n",
       "    <tr>\n",
       "      <th>0</th>\n",
       "      <td>償還借款</td>\n",
       "      <td>1513842</td>\n",
       "      <td>2017</td>\n",
       "    </tr>\n",
       "    <tr>\n",
       "      <th>1</th>\n",
       "      <td>折舊、折耗及攤銷</td>\n",
       "      <td>116655</td>\n",
       "      <td>2017</td>\n",
       "    </tr>\n",
       "    <tr>\n",
       "      <th>2</th>\n",
       "      <td>經常支出</td>\n",
       "      <td>23061479</td>\n",
       "      <td>2017</td>\n",
       "    </tr>\n",
       "    <tr>\n",
       "      <th>3</th>\n",
       "      <td>經常支出報廢金額</td>\n",
       "      <td>566751</td>\n",
       "      <td>2017</td>\n",
       "    </tr>\n",
       "    <tr>\n",
       "      <th>4</th>\n",
       "      <td>資本支出</td>\n",
       "      <td>5574950</td>\n",
       "      <td>2017</td>\n",
       "    </tr>\n",
       "    <tr>\n",
       "      <th>0</th>\n",
       "      <td>償還借款</td>\n",
       "      <td>1014559</td>\n",
       "      <td>2016</td>\n",
       "    </tr>\n",
       "    <tr>\n",
       "      <th>1</th>\n",
       "      <td>折舊、折耗及攤銷</td>\n",
       "      <td>975539</td>\n",
       "      <td>2016</td>\n",
       "    </tr>\n",
       "    <tr>\n",
       "      <th>2</th>\n",
       "      <td>經常支出</td>\n",
       "      <td>24209205</td>\n",
       "      <td>2016</td>\n",
       "    </tr>\n",
       "    <tr>\n",
       "      <th>3</th>\n",
       "      <td>經常支出報廢金額</td>\n",
       "      <td>357410</td>\n",
       "      <td>2016</td>\n",
       "    </tr>\n",
       "    <tr>\n",
       "      <th>4</th>\n",
       "      <td>資本支出</td>\n",
       "      <td>5365361</td>\n",
       "      <td>2016</td>\n",
       "    </tr>\n",
       "  </tbody>\n",
       "</table>\n",
       "</div>"
      ],
      "text/plain": [
       "  Complex2Name    FValue  year\n",
       "0         償還借款   2568559  2018\n",
       "1     折舊、折耗及攤銷    189090  2018\n",
       "2         經常支出  23744400  2018\n",
       "3     經常支出報廢金額   5724945  2018\n",
       "4         資本支出   5319702  2018\n",
       "0         償還借款   1513842  2017\n",
       "1     折舊、折耗及攤銷    116655  2017\n",
       "2         經常支出  23061479  2017\n",
       "3     經常支出報廢金額    566751  2017\n",
       "4         資本支出   5574950  2017\n",
       "0         償還借款   1014559  2016\n",
       "1     折舊、折耗及攤銷    975539  2016\n",
       "2         經常支出  24209205  2016\n",
       "3     經常支出報廢金額    357410  2016\n",
       "4         資本支出   5365361  2016"
      ]
     },
     "execution_count": 12,
     "metadata": {},
     "output_type": "execute_result"
    }
   ],
   "source": [
    "dfAll"
   ]
  },
  {
   "cell_type": "code",
   "execution_count": null,
   "id": "placed-better",
   "metadata": {},
   "outputs": [],
   "source": []
  }
 ],
 "metadata": {
  "kernelspec": {
   "display_name": "Python 3",
   "language": "python",
   "name": "python3"
  },
  "language_info": {
   "codemirror_mode": {
    "name": "ipython",
    "version": 3
   },
   "file_extension": ".py",
   "mimetype": "text/x-python",
   "name": "python",
   "nbconvert_exporter": "python",
   "pygments_lexer": "ipython3",
   "version": "3.9.2"
  },
  "vscode": {
   "interpreter": {
    "hash": "29ec65fa5dc20c50973d9dd8c8b9c08fd048ee378ee6b95bb7e4ed5c00adc78c"
   }
  }
 },
 "nbformat": 4,
 "nbformat_minor": 5
}
