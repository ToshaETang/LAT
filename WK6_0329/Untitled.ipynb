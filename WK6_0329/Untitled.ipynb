{
 "cells": [
  {
   "cell_type": "code",
   "execution_count": null,
   "id": "forty-american",
   "metadata": {},
   "outputs": [],
   "source": [
    "#多篇文章 一個LDA圖"
   ]
  },
  {
   "cell_type": "code",
   "execution_count": 15,
   "id": "promising-citation",
   "metadata": {},
   "outputs": [
    {
     "name": "stderr",
     "output_type": "stream",
     "text": [
      "c:\\users\\tosha.e.t\\appdata\\local\\programs\\python\\python39\\lib\\site-packages\\ipykernel\\ipkernel.py:283: DeprecationWarning: `should_run_async` will not call `transform_cell` automatically in the future. Please pass the result to `transformed_cell` argument and any exception that happen during thetransform in `preprocessing_exc_tuple` in IPython 7.17 and above.\n",
      "  and should_run_async(code)\n"
     ]
    },
    {
     "data": {
      "text/plain": [
       "\"['\\\\nThere is a long history of integrating cognitive and behavioral perspectives into the study of environmental risk', ' beginning with geographer Gilbert F. White’s work on floodplain management in the 1940s. White famously declared in his 1945 dissertation that: “floods are acts of god', ' but flood losses are largely acts of man', '” making the point that it is the interaction between human perceptions and behaviors and natural hazards that explains the loss of life and property associated with extreme events (White 1945: 2). The fields of environmental psychology', ' sociology', ' geography', ' natural hazards', ' cultural studies', ' and media and communications have produced bodies of theoretical and empirical work that\\\\ninform environmental policies with respect to hazard mitigation', ' emergency management', ' climate adaptation', ' and water conservation. The purposes of this chapter are: (a) to\\\\nprovide an overview of the way science and policy communities conceptualize the environmental risk of individuals and communities; and (b) show how these ideas have influenced contemporary public policy', ' focusing on climate change and urban water conservation.\\\\n\\\\nSome definitions are in order as we begin the process of reviewing the perceptual and cognitive aspects of the geographical study of hazards. A hazard is an extreme natural event that disrupts the normal functioning of society in a significant way (Ramesh et al. 2007).\\\\n\\\\nSociety has built up all sorts of mechanisms to cope with extreme natural events', ' including infrastructure', ' construction technology', ' insurance programs', ' building codes', ' zoning', ' and warning systems. Hazards exceed our capacity to cope and', ' by definition', ' disrupt the\\\\nnormal functioning of society and economy. Sudden onset hazards appear rapidly', ' and last for a period ranging from hours to weeks. They include floods', ' earthquakes', ' tornados', ' and wildfires. Chronic hazards are slow in onset and are barely noticeable to society; they include drought', ' sea-level rise', ' and weather events that may or may not be associated with climate change. They affect populations slowly', ' and become disasters only after they exceed a tipping point. (Cutter et al. 2009). The distinction between sudden onset and chronic hazards is significant in terms of perception and policy because the public at large and policy makers can anticipate floods such as those that occurred in the western USA from the 2016 “Godzilla” El Niño event and reduce their impacts on people and places. With chronic hazards such as climate change and drought', ' it is harder to interpret ongoing extreme events and distinguish them from longer-term', ' structural changes in society', ' economy', ' and environment. Causal mechanisms are less clear', ' and it is hard to distinguish between annual variations in temperature and precipitation and structural changes in climate and society.\\\\n\\\\nBoth sudden onset and chronic hazards can affect storm patterns and sea-level rise in a world where half the population now lives within 60 miles of the sea and three-quarters of all large cities are located along the coast (United Nations En\""
      ]
     },
     "execution_count": 15,
     "metadata": {},
     "output_type": "execute_result"
    }
   ],
   "source": [
    "import openai\n",
    "import pandas as pd\n",
    "with open('try.txt', 'r',encoding=\"utf-8\") as fh:\n",
    "    tmp = fh.read()\n",
    "    itemlist = tmp.split(',')\n",
    "itemlist = str(itemlist)\n",
    "keyfile = open(\"key.txt\", \"r\")\n",
    "key = keyfile.readline()\n",
    "openai.api_key = key\n",
    "data = [itemlist[0:3200], itemlist[3201:6400], \n",
    "        itemlist[6401:9600], itemlist[9601:12800], itemlist[12801:16000]]\n",
    "data[0]"
   ]
  },
  {
   "cell_type": "code",
   "execution_count": 16,
   "id": "manufactured-raise",
   "metadata": {},
   "outputs": [
    {
     "name": "stderr",
     "output_type": "stream",
     "text": [
      "c:\\users\\tosha.e.t\\appdata\\local\\programs\\python\\python39\\lib\\site-packages\\ipykernel\\ipkernel.py:283: DeprecationWarning: `should_run_async` will not call `transform_cell` automatically in the future. Please pass the result to `transformed_cell` argument and any exception that happen during thetransform in `preprocessing_exc_tuple` in IPython 7.17 and above.\n",
      "  and should_run_async(code)\n"
     ]
    },
    {
     "data": {
      "text/plain": [
       "\"This passage discusses the history of integrating cognitive and behavioral perspectives into the study of environmental risk, beginning with Gilbert F. White's work on floodplain management in the 1940s. The fields of environmental psychology, sociology, geography, natural hazards, cultural studies, and media and communications have produced bodies of theoretical and empirical work that inform environmental policies with respect to hazard mitigation, emergency management, climate adaptation, and water conservation. The distinction between sudden onset and chronic hazards is significant in terms of perception and policy, and both can affect storm patterns and sea-level rise, particularly in coastal areas.\""
      ]
     },
     "execution_count": 16,
     "metadata": {},
     "output_type": "execute_result"
    }
   ],
   "source": [
    "def chatgptfn(sub_list):\n",
    "    result = ''\n",
    "    response = openai.ChatCompletion.create(\n",
    "        model=\"gpt-3.5-turbo\",\n",
    "        messages=[\n",
    "            {\"role\": \"system\", \"content\": \"You are an assistant\"},\n",
    "            {\"role\": \"user\", \"content\": f\"{sub_list} :give me a summary\"}\n",
    "        ]\n",
    "    )\n",
    "    for choice in response.choices:\n",
    "        result += choice.message.content\n",
    "    return result\n",
    "data[0] = chatgptfn(data[0])\n",
    "data[0]"
   ]
  },
  {
   "cell_type": "code",
   "execution_count": 23,
   "id": "other-transparency",
   "metadata": {},
   "outputs": [
    {
     "name": "stderr",
     "output_type": "stream",
     "text": [
      "c:\\users\\tosha.e.t\\appdata\\local\\programs\\python\\python39\\lib\\site-packages\\ipykernel\\ipkernel.py:283: DeprecationWarning: `should_run_async` will not call `transform_cell` automatically in the future. Please pass the result to `transformed_cell` argument and any exception that happen during thetransform in `preprocessing_exc_tuple` in IPython 7.17 and above.\n",
      "  and should_run_async(code)\n"
     ]
    },
    {
     "name": "stdout",
     "output_type": "stream",
     "text": [
      "Dictionary<155 unique tokens: ['adapting', 'and', 'areas.', 'behavioral', 'better']...>\n",
      "Dictionary<146 unique tokens: ['adapting', 'areas.', 'behavioral', 'better', 'between']...>\n"
     ]
    },
    {
     "name": "stderr",
     "output_type": "stream",
     "text": [
      "C:\\Users\\Tosha.E.T\\AppData\\Roaming\\Python\\Python39\\site-packages\\pyLDAvis\\_prepare.py:243: FutureWarning: In a future version of pandas all arguments of DataFrame.drop except for the argument 'labels' will be keyword-only.\n",
      "  default_term_info = default_term_info.sort_values(\n"
     ]
    },
    {
     "data": {
      "text/html": [
       "\n",
       "<link rel=\"stylesheet\" type=\"text/css\" href=\"https://cdn.jsdelivr.net/gh/bmabey/pyLDAvis@3.4.0/pyLDAvis/js/ldavis.v1.0.0.css\">\n",
       "\n",
       "\n",
       "<div id=\"ldavis_el159321342173313728573940049\" style=\"background-color:white;\"></div>\n",
       "<script type=\"text/javascript\">\n",
       "\n",
       "var ldavis_el159321342173313728573940049_data = {\"mdsDat\": {\"x\": [-0.09119875226517557, 0.09917582149764768, -0.007977069232472257], \"y\": [-0.033109720050855725, -0.025715093718879166, 0.058824813769734925], \"topics\": [1, 2, 3], \"cluster\": [1, 1, 1], \"Freq\": [45.28537250469552, 39.40289233298353, 15.311735162320941]}, \"tinfo\": {\"Term\": [\"that\", \"has\", \"climate\", \"vulnerability\", \"adaptation\", \"argues\", \"challenges\", \"addressed.\", \"must\", \"strategies\", \"underlying\", \"comprehensive\", \"contribute\", \"change\", \"inequality.\", \"societal\", \"consider\", \"approach,\", \"a\", \"effectively\", \"through\", \"be\", \"can\", \"factors\", \"article\", \"economic\", \"as\", \"hazards,\", \"behavioral\", \"for\", \"as\", \"methods\", \"on\", \"social\", \"less\", \"analytical\", \"effective\", \"hazards\", \"rather\", \"available\", \"historical\", \"decisions,\", \"information.\", \"such\", \"both\", \"using\", \"recent\", \"or\", \"reliable.\", \"conditions\", \"evidence-based\", \"evaluating\", \"affected\", \"heuristics,\", \"make\", \"is\", \"experiential\", \"readily\", \"process\", \"systems.\", \"climate\", \"in\", \"can\", \"making\", \"be\", \"has\", \"hazards,\", \"behavioral\", \"for\", \"improving\", \"from\", \"adapting\", \"climates,\", \"coastal\", \"research\", \"perspectives\", \"various\", \"cognitive\", \"integration\", \"led\", \"contributed\", \"disciplines\", \"sudden\", \"policies\", \"understanding\", \"distinguish\", \"management.\", \"which\", \"our\", \"improved\", \"further\", \"conserving\", \"chronic\", \"emergency\", \"water\", \"in\", \"changing\", \"that\", \"vulnerability\", \"adaptation\", \"argues\", \"challenges\", \"addressed.\", \"must\", \"strategies\", \"underlying\", \"comprehensive\", \"contribute\", \"change\", \"inequality.\", \"societal\", \"consider\", \"a\", \"approach,\", \"effectively\", \"through\", \"be\", \"can\", \"article\", \"economic\", \"factors\", \"climate\", \"passage\", \"humans\", \"minimizing\", \"emphasizes\", \"identifying\", \"making\", \"methods\"], \"Freq\": [1.0, 2.0, 2.0, 0.0, 0.0, 0.0, 0.0, 0.0, 0.0, 0.0, 0.0, 0.0, 0.0, 0.0, 0.0, 0.0, 0.0, 0.0, 0.0, 1.0, 1.0, 1.0, 1.0, 1.0, 1.0, 1.0, 2.0, 1.0, 1.0, 1.0, 2.040337039403671, 1.4295943177628514, 1.4288462209011887, 1.4263332062374672, 0.8175462624567615, 0.8175187304273501, 0.8174334098153722, 0.8172890817549422, 0.8172312931723755, 0.817190425316218, 0.8171765159055258, 0.81712116505473, 0.817170206482119, 0.8170876820918781, 0.8171497725540403, 0.8170934179313388, 0.8170387840604756, 0.8170324029390755, 0.8169942596066619, 0.8169531766565246, 0.816957191744147, 0.8169391238498459, 0.8169351087622234, 0.8168950295839916, 0.8169371163060346, 0.8169326710304525, 0.8168619051111061, 0.8168647013328432, 0.816993757720709, 0.8168203202750159, 1.4295425518117184, 1.4205083178691342, 0.8172593270877397, 0.8169751879404551, 0.816940844601684, 1.9282757421043402, 1.3497313835218516, 1.3481292230983986, 1.3479848652127249, 0.7713720575620545, 0.7713663805665505, 0.7713668796430784, 0.7713582705729733, 0.7713537788842229, 0.7713497238874343, 0.7713492871954725, 0.7713451698141179, 0.7713450450449859, 0.7713425496623468, 0.7713472285047952, 0.7713436725845344, 0.7713396799723118, 0.7713357497446552, 0.7713315699787346, 0.7713317571324326, 0.7713245205227791, 0.7713291993652275, 0.7713238966771193, 0.7713264544443245, 0.7713272654436821, 0.771319093065539, 0.7713225242166678, 0.7713186563735771, 0.7713112949947917, 0.7713109206873958, 0.7829914325137652, 0.7717418732691735, 0.8112914183788059, 0.4636179462970411, 0.4636159099455132, 0.46361479480062884, 0.4636145523778279, 0.46361435843958715, 0.4636141645013464, 0.4636131463255824, 0.4636129039027815, 0.46360917059164686, 0.4636077645394014, 0.4636073766629199, 0.4636044191047483, 0.46360417668194737, 0.46359743732808106, 0.4635959827912754, 0.46359574036847445, 0.4646354917617335, 0.4644757351359099, 0.46442143242849787, 0.4642048518981324, 0.4636415582778533, 0.4636307462209311, 0.4636077160548412, 0.46522423977611194, 0.11734145984801009, 0.11718013959512032, 0.11713873378071867, 0.11712210357657375, 0.11711262484505675, 0.11792788060349943, 0.11725435733563006], \"Total\": [1.0, 2.0, 2.0, 0.0, 0.0, 0.0, 0.0, 0.0, 0.0, 0.0, 0.0, 0.0, 0.0, 0.0, 0.0, 0.0, 0.0, 0.0, 0.0, 1.0, 1.0, 1.0, 1.0, 1.0, 1.0, 1.0, 2.0, 1.0, 1.0, 1.0, 2.354964805760253, 1.7405319784004392, 1.740986760578781, 1.7412203026743316, 1.127088917100451, 1.1270953921463958, 1.1270986132281735, 1.127021157086454, 1.1270240601224957, 1.1269772757074885, 1.1269985730323975, 1.1269467225072782, 1.1270280006539182, 1.1269215499737815, 1.1270106363130572, 1.1269790072867363, 1.1269491997457608, 1.1269438249690498, 1.1269031108838747, 1.1268869141645903, 1.1269017418858656, 1.126906815189861, 1.1269144108702187, 1.1268758880834042, 1.1269399421913664, 1.1269404799449543, 1.1268585431014895, 1.126870969339362, 1.1270617323989975, 1.126835534099599, 2.0881013651659694, 2.319445751861822, 1.4748026827916678, 1.7046602392310963, 1.474640532941384, 2.249157205658031, 1.67057410313571, 1.669905265573807, 1.6698523005861927, 1.0920253334289804, 1.0920218341392465, 1.0920231050624238, 1.0920201585420906, 1.0920182807595022, 1.092020647861396, 1.0920239035198127, 1.0920207388052607, 1.0920214246736164, 1.092018861579622, 1.0920257447177906, 1.092022870683863, 1.0920192252761887, 1.0920213243515218, 1.092018670466626, 1.0920218203552063, 1.0920163207014435, 1.0920253257466686, 1.0920181006356027, 1.0920232740937912, 1.0920248239523187, 1.0920146275038602, 1.0920196763774253, 1.0920210451243348, 1.0920185125087754, 1.0920180515207294, 2.319445751861822, 1.7053767565002644, 1.2089923796107955, 0.8612129884166517, 0.861214134524649, 0.8612151245317663, 0.8612151432505213, 0.8612154619548651, 0.8612158154017653, 0.8612159463758222, 0.8612165955308873, 0.8612191207464095, 0.8612202923871242, 0.8612206485072127, 0.8612226945780199, 0.8612229992420877, 0.8612277921717402, 0.8612280353821489, 0.8612293329750063, 1.43911431969012, 1.4392171292438114, 1.474640532941384, 1.4748026827916678, 1.4750353576834936, 1.4750109546300996, 1.4750795181547511, 2.0881013651659694, 1.0910880127084828, 1.0911970316909658, 1.0912229234867297, 1.0912346124888974, 1.0912405206353695, 1.7046602392310963, 1.7405319784004392], \"Category\": [\"Default\", \"Default\", \"Default\", \"Default\", \"Default\", \"Default\", \"Default\", \"Default\", \"Default\", \"Default\", \"Default\", \"Default\", \"Default\", \"Default\", \"Default\", \"Default\", \"Default\", \"Default\", \"Default\", \"Default\", \"Default\", \"Default\", \"Default\", \"Default\", \"Default\", \"Default\", \"Default\", \"Default\", \"Default\", \"Default\", \"Topic1\", \"Topic1\", \"Topic1\", \"Topic1\", \"Topic1\", \"Topic1\", \"Topic1\", \"Topic1\", \"Topic1\", \"Topic1\", \"Topic1\", \"Topic1\", \"Topic1\", \"Topic1\", \"Topic1\", \"Topic1\", \"Topic1\", \"Topic1\", \"Topic1\", \"Topic1\", \"Topic1\", \"Topic1\", \"Topic1\", \"Topic1\", \"Topic1\", \"Topic1\", \"Topic1\", \"Topic1\", \"Topic1\", \"Topic1\", \"Topic1\", \"Topic1\", \"Topic1\", \"Topic1\", \"Topic1\", \"Topic2\", \"Topic2\", \"Topic2\", \"Topic2\", \"Topic2\", \"Topic2\", \"Topic2\", \"Topic2\", \"Topic2\", \"Topic2\", \"Topic2\", \"Topic2\", \"Topic2\", \"Topic2\", \"Topic2\", \"Topic2\", \"Topic2\", \"Topic2\", \"Topic2\", \"Topic2\", \"Topic2\", \"Topic2\", \"Topic2\", \"Topic2\", \"Topic2\", \"Topic2\", \"Topic2\", \"Topic2\", \"Topic2\", \"Topic2\", \"Topic2\", \"Topic2\", \"Topic3\", \"Topic3\", \"Topic3\", \"Topic3\", \"Topic3\", \"Topic3\", \"Topic3\", \"Topic3\", \"Topic3\", \"Topic3\", \"Topic3\", \"Topic3\", \"Topic3\", \"Topic3\", \"Topic3\", \"Topic3\", \"Topic3\", \"Topic3\", \"Topic3\", \"Topic3\", \"Topic3\", \"Topic3\", \"Topic3\", \"Topic3\", \"Topic3\", \"Topic3\", \"Topic3\", \"Topic3\", \"Topic3\", \"Topic3\", \"Topic3\", \"Topic3\"], \"logprob\": [30.0, 29.0, 28.0, 27.0, 26.0, 25.0, 24.0, 23.0, 22.0, 21.0, 20.0, 19.0, 18.0, 17.0, 16.0, 15.0, 14.0, 13.0, 12.0, 11.0, 10.0, 9.0, 8.0, 7.0, 6.0, 5.0, 4.0, 3.0, 2.0, 1.0, -3.6305, -3.9862, -3.9867, -3.9885, -4.5451, -4.5451, -4.5452, -4.5454, -4.5454, -4.5455, -4.5455, -4.5456, -4.5455, -4.5456, -4.5455, -4.5456, -4.5457, -4.5457, -4.5457, -4.5458, -4.5458, -4.5458, -4.5458, -4.5459, -4.5458, -4.5458, -4.5459, -4.5459, -4.5457, -4.5459, -3.9863, -3.9926, -4.5454, -4.5458, -4.5458, -3.5478, -3.9046, -3.9057, -3.9059, -4.4641, -4.4641, -4.4641, -4.4641, -4.4641, -4.4641, -4.4641, -4.4641, -4.4641, -4.4641, -4.4641, -4.4641, -4.4641, -4.4641, -4.4641, -4.4641, -4.4641, -4.4641, -4.4641, -4.4641, -4.4641, -4.4641, -4.4641, -4.4641, -4.4641, -4.4641, -4.4491, -4.4636, -3.4684, -4.0279, -4.0279, -4.0279, -4.0279, -4.0279, -4.028, -4.028, -4.028, -4.028, -4.028, -4.028, -4.028, -4.028, -4.028, -4.028, -4.028, -4.0257, -4.0261, -4.0262, -4.0267, -4.0279, -4.0279, -4.028, -4.0245, -5.4019, -5.4033, -5.4036, -5.4038, -5.4039, -5.3969, -5.4027], \"loglift\": [30.0, 29.0, 28.0, 27.0, 26.0, 25.0, 24.0, 23.0, 22.0, 21.0, 20.0, 19.0, 18.0, 17.0, 16.0, 15.0, 14.0, 13.0, 12.0, 11.0, 10.0, 9.0, 8.0, 7.0, 6.0, 5.0, 4.0, 3.0, 2.0, 1.0, 0.6488, 0.5954, 0.5946, 0.5927, 0.4711, 0.4711, 0.471, 0.4708, 0.4708, 0.4708, 0.4707, 0.4707, 0.4707, 0.4707, 0.4707, 0.4706, 0.4706, 0.4706, 0.4706, 0.4706, 0.4705, 0.4705, 0.4705, 0.4705, 0.4705, 0.4705, 0.4705, 0.4705, 0.4704, 0.4704, 0.4133, 0.3019, 0.2019, 0.0567, 0.2016, 0.7774, 0.7181, 0.7173, 0.7172, 0.5837, 0.5837, 0.5837, 0.5837, 0.5837, 0.5837, 0.5837, 0.5837, 0.5837, 0.5837, 0.5837, 0.5837, 0.5837, 0.5837, 0.5837, 0.5837, 0.5837, 0.5837, 0.5837, 0.5837, 0.5837, 0.5837, 0.5837, 0.5836, 0.5836, 0.5836, -0.1546, 0.1384, 1.4776, 1.2573, 1.2573, 1.2573, 1.2573, 1.2573, 1.2573, 1.2573, 1.2573, 1.2572, 1.2572, 1.2572, 1.2572, 1.2572, 1.2572, 1.2572, 1.2572, 0.746, 0.7456, 0.7212, 0.7206, 0.7192, 0.7192, 0.7191, 0.3751, -0.3533, -0.3548, -0.3551, -0.3553, -0.3554, -0.7945, -0.821]}, \"token.table\": {\"Topic\": [2, 1, 1, 1, 1, 1, 1, 2, 1, 1, 1, 2, 2, 1, 2, 2, 2, 1, 2, 2, 1, 2, 2, 1, 1, 2, 2, 2, 1, 1, 1, 1, 2, 2, 2, 2, 1, 2, 1, 1, 2, 2, 2, 2, 1, 2, 1, 2, 1, 2, 1, 1, 1, 2, 2, 1, 2, 1, 1, 2, 2, 2, 2, 1, 1, 1, 1, 1, 2, 1, 1, 2, 1, 3, 2, 2, 1, 2, 2, 2], \"Freq\": [0.9157315402615374, 0.8873788376064747, 0.8872363483765466, 0.6779498503483166, 0.8492695921009062, 0.8873293380048188, 0.6781313667035553, 0.5988363655206415, 0.8873030721976464, 0.6780568083230569, 0.5863806904769696, 0.5863806904769696, 0.9157332676552423, 0.4789039539373686, 0.9157340111148289, 0.9157355857673891, 0.9157329493776921, 0.8874004901737127, 0.9157344154432422, 0.9157317368030624, 0.8873533948216807, 0.9157347937231457, 0.9157372294194853, 0.6779610665676569, 0.8872338127857822, 0.6948718293730319, 0.915735391429057, 0.9163932197121124, 0.8873848187984561, 0.887388813798889, 0.8874228323704831, 0.6779295540968183, 0.5988553596320797, 0.9157326060135236, 0.9157386492942972, 0.8892219694420446, 0.8872947891991436, 0.598596613058334, 0.8874091730730034, 0.8873125698015, 0.9164247802712192, 0.9163882582162133, 0.9157300988641841, 0.9157296716368116, 0.4311374815286362, 0.4311374815286362, 0.88728940134565, 0.9157350987083545, 0.8873583102178079, 0.915729326746255, 0.8872414454864839, 0.8873587336477504, 0.586627162988831, 0.586627162988831, 0.9157296780788975, 0.5745369877771547, 0.9164030359669776, 0.5743869066916717, 0.8873556763376949, 0.9157313985178969, 0.9165163473088035, 0.9157308707042023, 0.915735258970155, 0.8872628457284755, 0.8872925036678547, 0.8874130465764495, 0.8873514442581791, 0.8873877357705228, 0.9157336007871202, 0.574309866743516, 0.8873732160178014, 0.9157330335044812, 0.8874409527731593, 0.8271350728628453, 0.6948221916490228, 0.915732617572354, 0.887327974642185, 0.9157335245245093, 0.9157357780005685, 0.915735736814212], \"Term\": [\"adapting\", \"affected\", \"analytical\", \"article\", \"as\", \"available\", \"be\", \"behavioral\", \"both\", \"can\", \"changing\", \"changing\", \"chronic\", \"climate\", \"climates,\", \"coastal\", \"cognitive\", \"conditions\", \"conserving\", \"contributed\", \"decisions,\", \"disciplines\", \"distinguish\", \"economic\", \"effective\", \"effectively\", \"emergency\", \"emphasizes\", \"evaluating\", \"evidence-based\", \"experiential\", \"factors\", \"for\", \"from\", \"further\", \"has\", \"hazards\", \"hazards,\", \"heuristics,\", \"historical\", \"humans\", \"identifying\", \"improved\", \"improving\", \"in\", \"in\", \"information.\", \"integration\", \"is\", \"led\", \"less\", \"make\", \"making\", \"making\", \"management.\", \"methods\", \"minimizing\", \"on\", \"or\", \"our\", \"passage\", \"perspectives\", \"policies\", \"process\", \"rather\", \"readily\", \"recent\", \"reliable.\", \"research\", \"social\", \"such\", \"sudden\", \"systems.\", \"that\", \"through\", \"understanding\", \"using\", \"various\", \"water\", \"which\"]}, \"R\": 30, \"lambda.step\": 0.01, \"plot.opts\": {\"xlab\": \"PC1\", \"ylab\": \"PC2\"}, \"topic.order\": [3, 2, 1]};\n",
       "\n",
       "function LDAvis_load_lib(url, callback){\n",
       "  var s = document.createElement('script');\n",
       "  s.src = url;\n",
       "  s.async = true;\n",
       "  s.onreadystatechange = s.onload = callback;\n",
       "  s.onerror = function(){console.warn(\"failed to load library \" + url);};\n",
       "  document.getElementsByTagName(\"head\")[0].appendChild(s);\n",
       "}\n",
       "\n",
       "if(typeof(LDAvis) !== \"undefined\"){\n",
       "   // already loaded: just create the visualization\n",
       "   !function(LDAvis){\n",
       "       new LDAvis(\"#\" + \"ldavis_el159321342173313728573940049\", ldavis_el159321342173313728573940049_data);\n",
       "   }(LDAvis);\n",
       "}else if(typeof define === \"function\" && define.amd){\n",
       "   // require.js is available: use it to load d3/LDAvis\n",
       "   require.config({paths: {d3: \"https://d3js.org/d3.v5\"}});\n",
       "   require([\"d3\"], function(d3){\n",
       "      window.d3 = d3;\n",
       "      LDAvis_load_lib(\"https://cdn.jsdelivr.net/gh/bmabey/pyLDAvis@3.4.0/pyLDAvis/js/ldavis.v3.0.0.js\", function(){\n",
       "        new LDAvis(\"#\" + \"ldavis_el159321342173313728573940049\", ldavis_el159321342173313728573940049_data);\n",
       "      });\n",
       "    });\n",
       "}else{\n",
       "    // require.js not available: dynamically load d3 & LDAvis\n",
       "    LDAvis_load_lib(\"https://d3js.org/d3.v5.js\", function(){\n",
       "         LDAvis_load_lib(\"https://cdn.jsdelivr.net/gh/bmabey/pyLDAvis@3.4.0/pyLDAvis/js/ldavis.v3.0.0.js\", function(){\n",
       "                 new LDAvis(\"#\" + \"ldavis_el159321342173313728573940049\", ldavis_el159321342173313728573940049_data);\n",
       "            })\n",
       "         });\n",
       "}\n",
       "</script>"
      ],
      "text/plain": [
       "<IPython.core.display.HTML object>"
      ]
     },
     "execution_count": 23,
     "metadata": {},
     "output_type": "execute_result"
    }
   ],
   "source": [
    "data[1] = chatgptfn(data[1])\n",
    "data[2] = chatgptfn(data[2])\n",
    "data[3] = chatgptfn(data[3])\n",
    "for i in range(0,5):\n",
    "    data[i] = chatgptfn(data[i])\n",
    "import gensim\n",
    "from gensim import corpora\n",
    "from pprint import pprint\n",
    "# 創建詞袋\n",
    "texts = [[word for word in document.lower().split()] for document in data]\n",
    "dictionary = corpora.Dictionary(texts)\n",
    "print(dictionary)\n",
    "dictionary.filter_extremes(no_below=1, no_above=0.4)######<---\n",
    "print(dictionary)\n",
    "corpus = [dictionary.doc2bow(text) for text in texts]\n",
    "# 訓練 LDA 模型\n",
    "lda_model = gensim.models.ldamodel.LdaModel(corpus=corpus, id2word=dictionary, \n",
    "                                            num_topics=3, random_state=100, update_every=1, \n",
    "                                            chunksize=100, passes=10, alpha='auto', per_word_topics=True)\n",
    "# 輸出主題模型分析結果\n",
    "import pyLDAvis\n",
    "import pyLDAvis.gensim\n",
    "pyLDAvis.enable_notebook()\n",
    "vis = pyLDAvis.gensim.prepare(lda_model, corpus, dictionary)\n",
    "pyLDAvis.display(vis)"
   ]
  },
  {
   "cell_type": "code",
   "execution_count": null,
   "id": "organizational-theorem",
   "metadata": {},
   "outputs": [],
   "source": []
  },
  {
   "cell_type": "code",
   "execution_count": null,
   "id": "single-pregnancy",
   "metadata": {},
   "outputs": [],
   "source": []
  }
 ],
 "metadata": {
  "kernelspec": {
   "display_name": "Python 3",
   "language": "python",
   "name": "python3"
  },
  "language_info": {
   "codemirror_mode": {
    "name": "ipython",
    "version": 3
   },
   "file_extension": ".py",
   "mimetype": "text/x-python",
   "name": "python",
   "nbconvert_exporter": "python",
   "pygments_lexer": "ipython3",
   "version": "3.9.2"
  }
 },
 "nbformat": 4,
 "nbformat_minor": 5
}
