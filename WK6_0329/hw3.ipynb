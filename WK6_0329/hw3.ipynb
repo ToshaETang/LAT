{
 "cells": [
  {
   "cell_type": "code",
   "execution_count": 6,
   "id": "forty-american",
   "metadata": {},
   "outputs": [],
   "source": [
    "#多篇文章 一個LDA圖"
   ]
  },
  {
   "cell_type": "code",
   "execution_count": 7,
   "id": "promising-citation",
   "metadata": {},
   "outputs": [],
   "source": [
    "import openai\n",
    "import pandas as pd\n",
    "\n",
    "with open('01.txt', 'r',encoding=\"utf-8\") as fh:\n",
    "    tmp1 = fh.read()\n",
    "    itemlist1 = tmp1.split(',')\n",
    "with open('02.txt', 'r',encoding=\"utf-8\") as fh:\n",
    "    tmp2 = fh.read()\n",
    "    itemlist2 = tmp2.split(',')\n",
    "with open('03.txt', 'r',encoding=\"utf-8\") as fh:\n",
    "    tmp3 = fh.read()\n",
    "    itemlist3 = tmp3.split(',')\n",
    "\n",
    "itemlist = itemlist1 + itemlist2 + itemlist3\n",
    "itemlist = str(itemlist)\n"
   ]
  },
  {
   "cell_type": "code",
   "execution_count": 8,
   "id": "serial-pennsylvania",
   "metadata": {},
   "outputs": [
    {
     "data": {
      "text/plain": [
       "\"['Copyright © by Lincoln Paine', ' The Sea and Civilization: A Maritime History of \\\\nthe World (New York: Knopf', ' 2013; ISBN 978-1-4000-4409-2 (hardback); Lon\\\\x02don: Atlantic Books', ' 2014; ISBN 978-1782393559 (hardback)). Available as an e\\\\x02book. To be published in Chinese', ' Korean', ' Romanian', ' and Russian translation.\\\\nIntroduction \\\\nI want to change the way you see the world. Specifically', ' I want to change the \\\\nway you see the world map by focusing your attention on the blues that shade \\\\n70 percent of the image before you', ' and letting the earth tones fade. This shift \\\\nin emphasis from land to water makes many trends and patterns of world histo\\\\x02ry stand out in ways they simply cannot otherwise. Before the development of \\\\nthe marine steam engine in the nineteenth century', ' culture', ' commerce', ' conta\\\\x02gion', ' and conflict generally moved faster by sea than by land. The opening of \\\\nsea routes sometimes resulted in immediate transformation', ' but more often it \\\\nlaid the groundwork for what was later mistaken for sudden change. The best \\\\nexample of this is the trade networks of the Indian Ocean', ' the oldest of which \\\\nwere pioneered at least four thousand years ago by navigators sailing between \\\\nMesopotamia and the mouths of the Indus River. By the start of the common \\\\nera two thousand years ago', ' the Indian subcontinent was a point of departure \\\\nand destination for merchants and mendicants from across the Arabian Sea \\\\nand the Bay of Bengal. This is all but unnoticed in the written record', ' which \\\\nboasts of no figure comparable to a Gilgamesh or Odysseus', ' and despite a\\\\ngrowing body of archaeological evidence', ' these undertakings remain largely \\\\nunrecognized. As a result', ' the later arrival in Southeast Asia of Muslim trad\\\\x02ers from the Indian subcontinent and Southwest Asia', ' of Chinese merchants \\\\nof various faiths', ' and of Portuguese Christians seem like so many historical \\\\nsurprises. Only the last were absolute newcomers to the Monsoon Seas that \\\\nstretch from the shores of East Africa to the coasts of Korea and Japan. The \\\\nothers were heirs to ancient', ' interlinked traditions of seafaring and trade that \\\\nlong ago connected the shores of East Africa with those of Northeast Asia. \\\\nThis book shows many similar examples of maritime regions that were quietly\\\\n \\\\n4 T H E S E A A N D C I V I L I Z AT I O N\\\\nexploited before events conspired to thrust them into the historical limelight. \\\\nTwo questions merit consideration before taking on a maritime history of the \\\\nworld as either writer or reader: What is maritime history? and What is world \\\\nhistory? The answers to both have as much to do with perspective as with sub\\\\x02ject matter. World history involves the synthetic investigation of complex in\\\\x02teractions between people of distinct backgrounds and orientations. It therefore \\\\ntranscends historians’ more traditional focus on politically', ' religiously', ' or cul\\\\x02turally distinct communities seen primarily in their own terms at a local', ' na\\\\x02tional', ' or regional level. As a subject of interdisciplinary and interregional in\\\\x02quiry', ' maritime history is a branch \""
      ]
     },
     "execution_count": 8,
     "metadata": {},
     "output_type": "execute_result"
    }
   ],
   "source": [
    "keyfile = open(\"key.txt\", \"r\",encoding=\"utf-8\")\n",
    "key = keyfile.readline()\n",
    "openai.api_key = key\n",
    "data = [itemlist[0:3200], itemlist[3201:6400], \n",
    "        itemlist[6401:9600], itemlist[9601:12800], itemlist[12801:16000]]\n",
    "data[0]"
   ]
  },
  {
   "cell_type": "code",
   "execution_count": 10,
   "id": "manufactured-raise",
   "metadata": {},
   "outputs": [
    {
     "data": {
      "text/plain": [
       "\"['Copyright © by Lincoln Paine', ' The Sea and Civilization: A Maritime History of \\\\nthe World (New York: Knopf', ' 2013; ISBN 978-1-4000-4409-2 (hardback); Lon\\\\x02don: Atlantic Books', ' 2014; ISBN 978-1782393559 (hardback)). Available as an e\\\\x02book. To be published in Chinese', ' Korean', ' Romanian', ' and Russian translation.\\\\nIntroduction \\\\nI want to change the way you see the world. Specifically', ' I want to change the \\\\nway you see the world map by focusing your attention on the blues that shade \\\\n70 percent of the image before you', ' and letting the earth tones fade. This shift \\\\nin emphasis from land to water makes many trends and patterns of world histo\\\\x02ry stand out in ways they simply cannot otherwise. Before the development of \\\\nthe marine steam engine in the nineteenth century', ' culture', ' commerce', ' conta\\\\x02gion', ' and conflict generally moved faster by sea than by land. The opening of \\\\nsea routes sometimes resulted in immediate transformation', ' but more often it \\\\nlaid the groundwork for what was later mistaken for sudden change. The best \\\\nexample of this is the trade networks of the Indian Ocean', ' the oldest of which \\\\nwere pioneered at least four thousand years ago by navigators sailing between \\\\nMesopotamia and the mouths of the Indus River. By the start of the common \\\\nera two thousand years ago', ' the Indian subcontinent was a point of departure \\\\nand destination for merchants and mendicants from across the Arabian Sea \\\\nand the Bay of Bengal. This is all but unnoticed in the written record', ' which \\\\nboasts of no figure comparable to a Gilgamesh or Odysseus', ' and despite a\\\\ngrowing body of archaeological evidence', ' these undertakings remain largely \\\\nunrecognized. As a result', ' the later arrival in Southeast Asia of Muslim trad\\\\x02ers from the Indian subcontinent and Southwest Asia', ' of Chinese merchants \\\\nof various faiths', ' and of Portuguese Christians seem like so many historical \\\\nsurprises. Only the last were absolute newcomers to the Monsoon Seas that \\\\nstretch from the shores of East Africa to the coasts of Korea and Japan. The \\\\nothers were heirs to ancient', ' interlinked traditions of seafaring and trade that \\\\nlong ago connected the shores of East Africa with those of Northeast Asia. \\\\nThis book shows many similar examples of maritime regions that were quietly\\\\n \\\\n4 T H E S E A A N D C I V I L I Z AT I O N\\\\nexploited before events conspired to thrust them into the historical limelight. \\\\nTwo questions merit consideration before taking on a maritime history of the \\\\nworld as either writer or reader: What is maritime history? and What is world \\\\nhistory? The answers to both have as much to do with perspective as with sub\\\\x02ject matter. World history involves the synthetic investigation of complex in\\\\x02teractions between people of distinct backgrounds and orientations. It therefore \\\\ntranscends historians’ more traditional focus on politically', ' religiously', ' or cul\\\\x02turally distinct communities seen primarily in their own terms at a local', ' na\\\\x02tional', ' or regional level. As a subject of interdisciplinary and interregional in\\\\x02quiry', ' maritime history is a branch \""
      ]
     },
     "execution_count": 10,
     "metadata": {},
     "output_type": "execute_result"
    }
   ],
   "source": [
    "def chatgptfn(sub_list):\n",
    "    result = ''\n",
    "    response = openai.ChatCompletion.create(\n",
    "        model=\"gpt-3.5-turbo\",\n",
    "        messages=[\n",
    "            {\"role\": \"system\", \"content\": \"You are an assistant\"},\n",
    "            {\"role\": \"user\", \"content\": f\"{sub_list} :give me a summary\"}\n",
    "        ]\n",
    "    )\n",
    "    for choice in response.choices:\n",
    "        result += choice.message.content\n",
    "    return result\n",
    "\n",
    "for i in range(1,5):\n",
    "    data[i] = chatgptfn(data[i])\n",
    "data[0]"
   ]
  },
  {
   "cell_type": "code",
   "execution_count": 11,
   "id": "other-transparency",
   "metadata": {},
   "outputs": [
    {
     "name": "stdout",
     "output_type": "stream",
     "text": [
      "Dictionary<520 unique tokens: [\"'\", '(hardback)).', '(hardback);', '(new', '2013;']...>\n",
      "Dictionary<454 unique tokens: [\"'\", '(hardback)).', '(hardback);', '(new', '2013;']...>\n"
     ]
    },
    {
     "name": "stderr",
     "output_type": "stream",
     "text": [
      "C:\\Users\\Tosha.E.T\\AppData\\Roaming\\Python\\Python39\\site-packages\\pyLDAvis\\_prepare.py:243: FutureWarning: In a future version of pandas all arguments of DataFrame.drop except for the argument 'labels' will be keyword-only.\n",
      "  default_term_info = default_term_info.sort_values(\n"
     ]
    },
    {
     "data": {
      "text/html": [
       "\n",
       "<link rel=\"stylesheet\" type=\"text/css\" href=\"https://cdn.jsdelivr.net/gh/bmabey/pyLDAvis@3.4.0/pyLDAvis/js/ldavis.v1.0.0.css\">\n",
       "\n",
       "\n",
       "<div id=\"ldavis_el2011221163079414083979782526\" style=\"background-color:white;\"></div>\n",
       "<script type=\"text/javascript\">\n",
       "\n",
       "var ldavis_el2011221163079414083979782526_data = {\"mdsDat\": {\"x\": [-0.07413200916162874, 0.05872778551469842, 0.015404223646930311], \"y\": [-0.014984047149850192, -0.03096733223640014, 0.04595137938625031], \"topics\": [1, 2, 3], \"cluster\": [1, 1, 1], \"Freq\": [79.02021788977466, 12.650479452999658, 8.329302657225684]}, \"tinfo\": {\"Term\": [\"how\", \"through\", \"passage\", \"activity\", \"navigation\", \"'\", \"transporting\", \"climate\", \"california\", \"behavioral\", \"hazard\", \"spain's\", \"perspectives\", \"route\", \"discusses\", \"rush.\", \"resulting\", \"applied\", \"transport,\", \"subsequent\", \"ships\", \"significance\", \"management,\", \"influence\", \"westward\", \"beginning\", \"discovery\", \"mitigation,\", \"gold\", \"upon\", \"'\", \"i\", \"before\", \"or\", \"many\", \"were\", \"indian\", \"what\", \"mediterranean\", \"approach,\", \"without\", \"not\", \"east\", \"merchants\", \"distinct\", \"want\", \"africa\", \"thousand\", \"see\", \"\\\\nand\", \"later\", \"change\", \"ago\", \"\\\\nthe\", \"years\", \"e\", \"shores\", \"isbn\", \"subcontinent\", \"it\", \"how\", \"through\", \"activity\", \"navigation\", \"spreading\", \"includes\", \"facilitated\", \"shared\", \"met.\", \"impact\", \"trading\", \"such\", \"manufacturing\", \"contact\", \"shipbuilding,\", \"technologies,\", \"endeavor\", \"while\", \"economic,\", \"places.\", \"enlarged\", \"examines\", \"technological\", \"explores\", \"river\", \"knowledge,\", \"shapes\", \"realms\", \"demographic,\", \"continental\", \"inland\", \"social\", \"different\", \"passage\", \"discusses\", \"during\", \"search\", \"westward\", \"emergency\", \"transport,\", \"touches\", \"transporting\", \"spain's\", \"mitigation,\", \"influence\", \"americas\", \"united\", \"hazard\", \"climate\", \"colonization.\", \"portugal\", \"adaptation,\", \"applied\", \"subsequent\", \"management,\", \"perspectives\", \"behavioral\", \"cognitive\", \"route\", \"rush.\", \"gold\", \"integration\", \"risk\", \"discovery\", \"resulting\"], \"Freq\": [1.0, 1.0, 0.0, 1.0, 1.0, 20.0, 0.0, 0.0, 0.0, 0.0, 0.0, 0.0, 0.0, 0.0, 0.0, 0.0, 0.0, 0.0, 0.0, 0.0, 0.0, 0.0, 0.0, 0.0, 0.0, 0.0, 0.0, 0.0, 0.0, 0.0, 20.04075092579862, 3.9063280746258835, 3.177630334563453, 3.1744401451330297, 2.444940234673212, 2.444254856859769, 2.444102053229109, 2.442810911213611, 1.7159795166426015, 1.715623299261573, 1.7152579331281357, 1.7146362072729417, 1.7127854341260464, 1.712193101071145, 1.7121378192480785, 1.7120940220290994, 1.7117796553239844, 1.7116597482711353, 1.711750651832305, 1.7118088534699702, 1.7115923978810612, 1.7106154279163717, 1.710766090349659, 1.710647545876956, 1.7103802855140315, 1.7105453523660055, 1.7104149339806016, 1.7097513574494945, 1.7100392511689158, 1.7095166043557675, 1.32059655949141, 1.0157769824802128, 0.7110900332179776, 0.711058496732557, 0.406367153552887, 0.406365564263602, 0.4063587708309718, 0.4063603601202569, 0.4063557169025418, 0.40635126066003674, 0.40635288111185675, 0.4063546885388868, 0.4063477704561167, 0.4063503881090567, 0.40635116717243175, 0.40634022912264656, 0.4063448411778266, 0.40634717836795164, 0.4063443425772666, 0.4063441556020566, 0.4063439997893816, 0.4063405719105316, 0.40634178724939657, 0.4063400109849015, 0.40634549559106165, 0.4063447165276866, 0.40634016679757656, 0.40633826588294153, 0.40633667659365647, 0.4063388579711065, 0.40634038493532154, 0.40633982400969154, 0.40634075888574156, 0.5227791368961393, 0.2990328661233904, 0.29894931694063953, 0.29892206907357344, 0.29892777306984175, 0.2989093068948723, 0.2989395709038501, 0.29887647813937096, 0.2989695476612172, 0.29893507746794085, 0.29883696052493625, 0.29884557807325535, 0.29880019231877475, 0.29881071803850734, 0.2988866755715486, 0.29890060727466444, 0.2987430908021746, 0.2987892357216262, 0.2987843934801897, 0.298829635608865, 0.2988108411463405, 0.2987953295593661, 0.29884832748152856, 0.2988532517948538, 0.2987182845737989, 0.2988266194669533, 0.2988108411463405, 0.298763177896947, 0.29865943902956277, 0.29873227783083134, 0.2987459428003088, 0.2987668300959965], \"Total\": [1.0, 1.0, 0.0, 1.0, 1.0, 20.0, 0.0, 0.0, 0.0, 0.0, 0.0, 0.0, 0.0, 0.0, 0.0, 0.0, 0.0, 0.0, 0.0, 0.0, 0.0, 0.0, 0.0, 0.0, 0.0, 0.0, 0.0, 0.0, 0.0, 0.0, 20.249164435286904, 4.0905311761273, 3.359166123019169, 3.357048509631761, 2.624940684416067, 2.624612181299084, 2.624506399535092, 2.6238302867521077, 1.8933656090967472, 1.8931190376663973, 1.8929828323236906, 1.8926074329462825, 1.891340625364262, 1.8909325644118944, 1.8908996798551165, 1.8909429291167164, 1.8906648113418718, 1.8905493871640877, 1.8906525444810596, 1.8907632425735912, 1.8906606424033598, 1.889923332755321, 1.890187645834871, 1.8900803880555024, 1.8898171755397397, 1.8899999172542925, 1.8899147859780325, 1.8893371446940914, 1.889664376174044, 1.8893680670804591, 1.6415172421167779, 1.336673206193596, 1.0317861616573856, 1.031812612168749, 0.7269236340397001, 0.7269290517561241, 0.7269299945823801, 0.7269334360691677, 0.7269266814806059, 0.7269267919028659, 0.726935676951633, 0.726940020880767, 0.726930551922262, 0.7269404826860417, 0.726941909481494, 0.7269238278755765, 0.7269321446924671, 0.7269391358834151, 0.7269356938291793, 0.7269356913825046, 0.7269363215482589, 0.7269302263315631, 0.7269331177663154, 0.7269319840205974, 0.7269439406010139, 0.7269459450876352, 0.7269409232765507, 0.7269376109011713, 0.7269350268060718, 0.7269405544629851, 0.7269440360813492, 0.7269454174853248, 0.7269521526040718, 0.8757966973344204, 0.6489551912212903, 0.6488638681328873, 0.6489013644912849, 0.6489624117634121, 0.6489447940816153, 0.6490242077414086, 0.648948737759659, 0.6492608240368276, 0.6492028596113714, 0.6491175139144648, 0.6491442545282176, 0.6490460557677287, 0.6491205022610889, 0.6493135376525272, 0.6493592562021864, 0.6490412781620227, 0.6491583714456484, 0.6491504506027087, 0.6492690949897045, 0.6492734993141461, 0.649256079028862, 0.6493728325525778, 0.6494015936362009, 0.6491552944455231, 0.649396870659297, 0.6493628445049, 0.6492641944044788, 0.6490844270213597, 0.6492724653305526, 0.6493229823563462, 0.6494058737369999], \"Category\": [\"Default\", \"Default\", \"Default\", \"Default\", \"Default\", \"Default\", \"Default\", \"Default\", \"Default\", \"Default\", \"Default\", \"Default\", \"Default\", \"Default\", \"Default\", \"Default\", \"Default\", \"Default\", \"Default\", \"Default\", \"Default\", \"Default\", \"Default\", \"Default\", \"Default\", \"Default\", \"Default\", \"Default\", \"Default\", \"Default\", \"Topic1\", \"Topic1\", \"Topic1\", \"Topic1\", \"Topic1\", \"Topic1\", \"Topic1\", \"Topic1\", \"Topic1\", \"Topic1\", \"Topic1\", \"Topic1\", \"Topic1\", \"Topic1\", \"Topic1\", \"Topic1\", \"Topic1\", \"Topic1\", \"Topic1\", \"Topic1\", \"Topic1\", \"Topic1\", \"Topic1\", \"Topic1\", \"Topic1\", \"Topic1\", \"Topic1\", \"Topic1\", \"Topic1\", \"Topic1\", \"Topic2\", \"Topic2\", \"Topic2\", \"Topic2\", \"Topic2\", \"Topic2\", \"Topic2\", \"Topic2\", \"Topic2\", \"Topic2\", \"Topic2\", \"Topic2\", \"Topic2\", \"Topic2\", \"Topic2\", \"Topic2\", \"Topic2\", \"Topic2\", \"Topic2\", \"Topic2\", \"Topic2\", \"Topic2\", \"Topic2\", \"Topic2\", \"Topic2\", \"Topic2\", \"Topic2\", \"Topic2\", \"Topic2\", \"Topic2\", \"Topic2\", \"Topic2\", \"Topic2\", \"Topic3\", \"Topic3\", \"Topic3\", \"Topic3\", \"Topic3\", \"Topic3\", \"Topic3\", \"Topic3\", \"Topic3\", \"Topic3\", \"Topic3\", \"Topic3\", \"Topic3\", \"Topic3\", \"Topic3\", \"Topic3\", \"Topic3\", \"Topic3\", \"Topic3\", \"Topic3\", \"Topic3\", \"Topic3\", \"Topic3\", \"Topic3\", \"Topic3\", \"Topic3\", \"Topic3\", \"Topic3\", \"Topic3\", \"Topic3\", \"Topic3\", \"Topic3\"], \"logprob\": [30.0, 29.0, 28.0, 27.0, 26.0, 25.0, 24.0, 23.0, 22.0, 21.0, 20.0, 19.0, 18.0, 17.0, 16.0, 15.0, 14.0, 13.0, 12.0, 11.0, 10.0, 9.0, 8.0, 7.0, 6.0, 5.0, 4.0, 3.0, 2.0, 1.0, -3.0378, -4.6729, -4.8794, -4.8804, -5.1415, -5.1418, -5.1418, -5.1424, -5.4955, -5.4957, -5.496, -5.4963, -5.4974, -5.4977, -5.4978, -5.4978, -5.498, -5.4981, -5.498, -5.498, -5.4981, -5.4987, -5.4986, -5.4986, -5.4988, -5.4987, -5.4988, -5.4992, -5.499, -5.4993, -3.9254, -4.1879, -4.5445, -4.5445, -5.104, -5.104, -5.104, -5.104, -5.104, -5.1041, -5.104, -5.104, -5.1041, -5.1041, -5.1041, -5.1041, -5.1041, -5.1041, -5.1041, -5.1041, -5.1041, -5.1041, -5.1041, -5.1041, -5.1041, -5.1041, -5.1041, -5.1041, -5.1041, -5.1041, -5.1041, -5.1041, -5.1041, -4.4342, -4.9928, -4.9931, -4.9932, -4.9932, -4.9932, -4.9931, -4.9933, -4.993, -4.9931, -4.9935, -4.9934, -4.9936, -4.9935, -4.9933, -4.9932, -4.9938, -4.9936, -4.9936, -4.9935, -4.9935, -4.9936, -4.9934, -4.9934, -4.9939, -4.9935, -4.9935, -4.9937, -4.994, -4.9938, -4.9938, -4.9937], \"loglift\": [30.0, 29.0, 28.0, 27.0, 26.0, 25.0, 24.0, 23.0, 22.0, 21.0, 20.0, 19.0, 18.0, 17.0, 16.0, 15.0, 14.0, 13.0, 12.0, 11.0, 10.0, 9.0, 8.0, 7.0, 6.0, 5.0, 4.0, 3.0, 2.0, 1.0, 0.2251, 0.1894, 0.1799, 0.1795, 0.1644, 0.1643, 0.1643, 0.164, 0.1371, 0.137, 0.1369, 0.1367, 0.1363, 0.1362, 0.1362, 0.1361, 0.1361, 0.1361, 0.1361, 0.136, 0.136, 0.1358, 0.1357, 0.1357, 0.1357, 0.1357, 0.1357, 0.1356, 0.1356, 0.1354, 1.8499, 1.7929, 1.6952, 1.6952, 1.4859, 1.4859, 1.4859, 1.4859, 1.4859, 1.4859, 1.4859, 1.4859, 1.4859, 1.4858, 1.4858, 1.4858, 1.4858, 1.4858, 1.4858, 1.4858, 1.4858, 1.4858, 1.4858, 1.4858, 1.4858, 1.4858, 1.4858, 1.4858, 1.4858, 1.4858, 1.4858, 1.4858, 1.4858, 1.9694, 1.7106, 1.7104, 1.7103, 1.7102, 1.7102, 1.7102, 1.7101, 1.7099, 1.7099, 1.7097, 1.7097, 1.7097, 1.7096, 1.7095, 1.7095, 1.7095, 1.7095, 1.7094, 1.7094, 1.7093, 1.7093, 1.7093, 1.7093, 1.7092, 1.7092, 1.7092, 1.7092, 1.7091, 1.7091, 1.7091, 1.709]}, \"token.table\": {\"Topic\": [1, 1, 1, 2, 1, 1, 1, 1, 1, 1, 1, 1, 2, 1, 1, 1, 1, 1, 1, 1, 1, 2, 1, 1, 3, 1, 1, 1, 1, 2, 1, 1, 1, 1, 1], \"Freq\": [0.9876950757112377, 1.0577738952010314, 1.058156051265937, 0.9691930723258328, 1.0578289647124333, 1.0580960067150509, 1.0564576026161314, 0.8930787850717082, 1.0582439855294015, 1.0576975718528034, 1.0582011045299466, 1.0574509811604194, 0.6091925045578411, 0.9778681124212797, 0.7620480561046764, 1.0585723176070974, 1.0585549924586661, 1.0578312972430899, 0.7619219786084086, 1.0563200210202002, 1.0576791777987213, 0.969168227066073, 1.0567431814882688, 0.8936421357608186, 1.1418175051853992, 1.0578358280785822, 1.0582487712349413, 1.0583890055912204, 1.057893548604987, 0.7481260156681602, 1.0576733804093312, 0.7620173426955884, 0.7622444218660528, 1.056533617658298, 1.0583034305573986], \"Term\": [\"'\", \"\\\\nand\", \"\\\\nthe\", \"activity\", \"africa\", \"ago\", \"approach,\", \"before\", \"change\", \"distinct\", \"e\", \"east\", \"how\", \"i\", \"indian\", \"isbn\", \"it\", \"later\", \"many\", \"mediterranean\", \"merchants\", \"navigation\", \"not\", \"or\", \"passage\", \"see\", \"shores\", \"subcontinent\", \"thousand\", \"through\", \"want\", \"were\", \"what\", \"without\", \"years\"]}, \"R\": 30, \"lambda.step\": 0.01, \"plot.opts\": {\"xlab\": \"PC1\", \"ylab\": \"PC2\"}, \"topic.order\": [3, 2, 1]};\n",
       "\n",
       "function LDAvis_load_lib(url, callback){\n",
       "  var s = document.createElement('script');\n",
       "  s.src = url;\n",
       "  s.async = true;\n",
       "  s.onreadystatechange = s.onload = callback;\n",
       "  s.onerror = function(){console.warn(\"failed to load library \" + url);};\n",
       "  document.getElementsByTagName(\"head\")[0].appendChild(s);\n",
       "}\n",
       "\n",
       "if(typeof(LDAvis) !== \"undefined\"){\n",
       "   // already loaded: just create the visualization\n",
       "   !function(LDAvis){\n",
       "       new LDAvis(\"#\" + \"ldavis_el2011221163079414083979782526\", ldavis_el2011221163079414083979782526_data);\n",
       "   }(LDAvis);\n",
       "}else if(typeof define === \"function\" && define.amd){\n",
       "   // require.js is available: use it to load d3/LDAvis\n",
       "   require.config({paths: {d3: \"https://d3js.org/d3.v5\"}});\n",
       "   require([\"d3\"], function(d3){\n",
       "      window.d3 = d3;\n",
       "      LDAvis_load_lib(\"https://cdn.jsdelivr.net/gh/bmabey/pyLDAvis@3.4.0/pyLDAvis/js/ldavis.v3.0.0.js\", function(){\n",
       "        new LDAvis(\"#\" + \"ldavis_el2011221163079414083979782526\", ldavis_el2011221163079414083979782526_data);\n",
       "      });\n",
       "    });\n",
       "}else{\n",
       "    // require.js not available: dynamically load d3 & LDAvis\n",
       "    LDAvis_load_lib(\"https://d3js.org/d3.v5.js\", function(){\n",
       "         LDAvis_load_lib(\"https://cdn.jsdelivr.net/gh/bmabey/pyLDAvis@3.4.0/pyLDAvis/js/ldavis.v3.0.0.js\", function(){\n",
       "                 new LDAvis(\"#\" + \"ldavis_el2011221163079414083979782526\", ldavis_el2011221163079414083979782526_data);\n",
       "            })\n",
       "         });\n",
       "}\n",
       "</script>"
      ],
      "text/plain": [
       "<IPython.core.display.HTML object>"
      ]
     },
     "execution_count": 11,
     "metadata": {},
     "output_type": "execute_result"
    }
   ],
   "source": [
    "import gensim\n",
    "from gensim import corpora\n",
    "from pprint import pprint\n",
    "# 創建詞袋\n",
    "texts = [[word for word in document.lower().split()] for document in data]\n",
    "dictionary = corpora.Dictionary(texts)\n",
    "print(dictionary)\n",
    "dictionary.filter_extremes(no_below=1, no_above=0.3)######<---\n",
    "print(dictionary)\n",
    "corpus = [dictionary.doc2bow(text) for text in texts]\n",
    "# 訓練 LDA 模型\n",
    "lda_model = gensim.models.ldamodel.LdaModel(corpus=corpus, id2word=dictionary, \n",
    "                                            num_topics=3, random_state=100, update_every=1, \n",
    "                                            chunksize=100, passes=10, alpha='auto', per_word_topics=True)\n",
    "# 輸出主題模型分析結果\n",
    "import pyLDAvis\n",
    "import pyLDAvis.gensim\n",
    "pyLDAvis.enable_notebook()\n",
    "vis = pyLDAvis.gensim.prepare(lda_model, corpus, dictionary)\n",
    "pyLDAvis.display(vis)"
   ]
  },
  {
   "cell_type": "code",
   "execution_count": null,
   "id": "organizational-theorem",
   "metadata": {},
   "outputs": [],
   "source": []
  },
  {
   "cell_type": "code",
   "execution_count": null,
   "id": "single-pregnancy",
   "metadata": {},
   "outputs": [],
   "source": []
  }
 ],
 "metadata": {
  "kernelspec": {
   "display_name": "Python 3",
   "language": "python",
   "name": "python3"
  },
  "language_info": {
   "codemirror_mode": {
    "name": "ipython",
    "version": 3
   },
   "file_extension": ".py",
   "mimetype": "text/x-python",
   "name": "python",
   "nbconvert_exporter": "python",
   "pygments_lexer": "ipython3",
   "version": "3.9.2"
  }
 },
 "nbformat": 4,
 "nbformat_minor": 5
}
