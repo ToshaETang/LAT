{
 "cells": [
  {
   "cell_type": "code",
   "execution_count": null,
   "id": "future-fiction",
   "metadata": {},
   "outputs": [],
   "source": [
    "#TEST"
   ]
  },
  {
   "cell_type": "code",
   "execution_count": 1,
   "id": "muslim-baseline",
   "metadata": {},
   "outputs": [],
   "source": [
    "import pandas as pd"
   ]
  },
  {
   "cell_type": "code",
   "execution_count": 2,
   "id": "considerable-closure",
   "metadata": {},
   "outputs": [],
   "source": [
    "df = pd.read_csv(r'C:\\Users\\Tosha.E.T\\Documents\\GitHub\\LAT\\2018.csv')"
   ]
  },
  {
   "cell_type": "code",
   "execution_count": 6,
   "id": "amateur-wings",
   "metadata": {},
   "outputs": [
    {
     "data": {
      "text/html": [
       "<div>\n",
       "<style scoped>\n",
       "    .dataframe tbody tr th:only-of-type {\n",
       "        vertical-align: middle;\n",
       "    }\n",
       "\n",
       "    .dataframe tbody tr th {\n",
       "        vertical-align: top;\n",
       "    }\n",
       "\n",
       "    .dataframe thead th {\n",
       "        text-align: right;\n",
       "    }\n",
       "</style>\n",
       "<table border=\"1\" class=\"dataframe\">\n",
       "  <thead>\n",
       "    <tr style=\"text-align: right;\">\n",
       "      <th></th>\n",
       "      <th>RptNo</th>\n",
       "      <th>RptName</th>\n",
       "      <th>StatCourseNo</th>\n",
       "      <th>StatCourseName</th>\n",
       "      <th>DataDate</th>\n",
       "      <th>PlaceNo</th>\n",
       "      <th>PlaceName</th>\n",
       "      <th>PeriodNo</th>\n",
       "      <th>PeriodName</th>\n",
       "      <th>Complex1</th>\n",
       "      <th>...</th>\n",
       "      <th>Complex5</th>\n",
       "      <th>Complex5Name</th>\n",
       "      <th>DeriveNo</th>\n",
       "      <th>DeriveExplain</th>\n",
       "      <th>FValue</th>\n",
       "      <th>SValue</th>\n",
       "      <th>RptDeptNo</th>\n",
       "      <th>RptDeptName</th>\n",
       "      <th>CreateTime</th>\n",
       "      <th>ModifyTime</th>\n",
       "    </tr>\n",
       "  </thead>\n",
       "  <tbody>\n",
       "    <tr>\n",
       "      <th>0</th>\n",
       "      <td>10440-01-01-2</td>\n",
       "      <td>臺中市高級中等學校教育經費概況(預、決算數)</td>\n",
       "      <td>1044001a013</td>\n",
       "      <td>高級中等學校教育經費概況(預、決算數)-預算數-經費來源(單位:千元)</td>\n",
       "      <td>2018/1/1 上午 12:00:00</td>\n",
       "      <td>10000066000</td>\n",
       "      <td>臺中市</td>\n",
       "      <td>Y</td>\n",
       "      <td>年</td>\n",
       "      <td>2.300100e+11</td>\n",
       "      <td>...</td>\n",
       "      <td>0</td>\n",
       "      <td>NaN</td>\n",
       "      <td>0</td>\n",
       "      <td>NaN</td>\n",
       "      <td>567861</td>\n",
       "      <td>NaN</td>\n",
       "      <td>387040000E</td>\n",
       "      <td>教育局</td>\n",
       "      <td>2019/2/27 下午 02:08:44</td>\n",
       "      <td>2019/3/4 上午 11:41:13</td>\n",
       "    </tr>\n",
       "    <tr>\n",
       "      <th>1</th>\n",
       "      <td>10440-01-01-2</td>\n",
       "      <td>臺中市高級中等學校教育經費概況(預、決算數)</td>\n",
       "      <td>1044001a013</td>\n",
       "      <td>高級中等學校教育經費概況(預、決算數)-預算數-經費來源(單位:千元)</td>\n",
       "      <td>2018/1/1 上午 12:00:00</td>\n",
       "      <td>10000066000</td>\n",
       "      <td>臺中市</td>\n",
       "      <td>Y</td>\n",
       "      <td>年</td>\n",
       "      <td>2.300100e+11</td>\n",
       "      <td>...</td>\n",
       "      <td>0</td>\n",
       "      <td>NaN</td>\n",
       "      <td>0</td>\n",
       "      <td>NaN</td>\n",
       "      <td>6377582</td>\n",
       "      <td>NaN</td>\n",
       "      <td>387040000E</td>\n",
       "      <td>教育局</td>\n",
       "      <td>2019/2/27 下午 02:08:44</td>\n",
       "      <td>2019/3/4 上午 11:41:13</td>\n",
       "    </tr>\n",
       "  </tbody>\n",
       "</table>\n",
       "<p>2 rows × 27 columns</p>\n",
       "</div>"
      ],
      "text/plain": [
       "           RptNo                 RptName StatCourseNo  \\\n",
       "0  10440-01-01-2  臺中市高級中等學校教育經費概況(預、決算數)  1044001a013   \n",
       "1  10440-01-01-2  臺中市高級中等學校教育經費概況(預、決算數)  1044001a013   \n",
       "\n",
       "                        StatCourseName              DataDate      PlaceNo  \\\n",
       "0  高級中等學校教育經費概況(預、決算數)-預算數-經費來源(單位:千元)  2018/1/1 上午 12:00:00  10000066000   \n",
       "1  高級中等學校教育經費概況(預、決算數)-預算數-經費來源(單位:千元)  2018/1/1 上午 12:00:00  10000066000   \n",
       "\n",
       "  PlaceName PeriodNo PeriodName      Complex1  ... Complex5  Complex5Name  \\\n",
       "0       臺中市        Y          年  2.300100e+11  ...        0           NaN   \n",
       "1       臺中市        Y          年  2.300100e+11  ...        0           NaN   \n",
       "\n",
       "  DeriveNo  DeriveExplain   FValue  SValue   RptDeptNo  RptDeptName  \\\n",
       "0        0            NaN   567861     NaN  387040000E          教育局   \n",
       "1        0            NaN  6377582     NaN  387040000E          教育局   \n",
       "\n",
       "              CreateTime            ModifyTime  \n",
       "0  2019/2/27 下午 02:08:44  2019/3/4 上午 11:41:13  \n",
       "1  2019/2/27 下午 02:08:44  2019/3/4 上午 11:41:13  \n",
       "\n",
       "[2 rows x 27 columns]"
      ]
     },
     "execution_count": 6,
     "metadata": {},
     "output_type": "execute_result"
    }
   ],
   "source": [
    "df.head(2)"
   ]
  },
  {
   "cell_type": "code",
   "execution_count": null,
   "id": "broke-trainer",
   "metadata": {},
   "outputs": [],
   "source": []
  }
 ],
 "metadata": {
  "kernelspec": {
   "display_name": "Python 3",
   "language": "python",
   "name": "python3"
  },
  "language_info": {
   "codemirror_mode": {
    "name": "ipython",
    "version": 3
   },
   "file_extension": ".py",
   "mimetype": "text/x-python",
   "name": "python",
   "nbconvert_exporter": "python",
   "pygments_lexer": "ipython3",
   "version": "3.9.2"
  }
 },
 "nbformat": 4,
 "nbformat_minor": 5
}
